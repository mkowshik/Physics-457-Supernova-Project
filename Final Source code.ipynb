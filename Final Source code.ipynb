{
 "metadata": {
  "name": "",
  "signature": "sha256:cea551b960777f362338e9a38ec9b423d61d6d8b920fb193cd58e9db88390451"
 },
 "nbformat": 3,
 "nbformat_minor": 0,
 "worksheets": [
  {
   "cells": [
    {
     "cell_type": "code",
     "collapsed": true,
     "input": [
      "from __future__ import division\n",
      "from scipy import integrate\n",
      "import matplotlib.mlab as mlab\n",
      "import matplotlib.pyplot as plt\n",
      "import matplotlib.colors\n",
      "import numpy as np\n",
      "import math\n",
      "from math import log10,exp\n",
      "import sys\n",
      "from mpl_toolkits.mplot3d import axes3d\n",
      "import matplotlib.pyplot as plt\n",
      "from matplotlib import cm"
     ],
     "language": "python",
     "metadata": {},
     "outputs": [],
     "prompt_number": 902
    },
    {
     "cell_type": "code",
     "collapsed": true,
     "input": [
      "#Import Data\n",
      "\n",
      "path = '/Users/Manoj/Dropbox/Umich/W2015/P457/Project/Physics-457-Supernova-Project/SCPUnion2_mu_vs_z.txt'\n",
      "data = np.genfromtxt(path)"
     ],
     "language": "python",
     "metadata": {},
     "outputs": [],
     "prompt_number": 910
    },
    {
     "cell_type": "code",
     "collapsed": true,
     "input": [
      "#Define important arrays\n",
      "z = data[:,1] # redshift\n",
      "m = data[:,2] # magnitude\n",
      "e = data[:,3] # error"
     ],
     "language": "python",
     "metadata": {},
     "outputs": [],
     "prompt_number": 904
    },
    {
     "cell_type": "heading",
     "level": 1,
     "metadata": {},
     "source": [
      "OMEGA M AND W"
     ]
    },
    {
     "cell_type": "code",
     "collapsed": true,
     "input": [
      "#define a function that calculates the theoretical magnitude based on cosmological parameters\n",
      "\n",
      "def mth(z,omega_m,M,w):  #fixed omega_m\n",
      "    def dl(z,omega_m,w):\n",
      "        f = lambda x: 1/np.sqrt(omega_m*(1+x)**3 + (1-omega_m)*(1+x)**(3*(1+w)))\n",
      "        d = integrate.romberg(f, 0 , z, rtol = 0.001, show = False)*(1+z)\n",
      "        return d\n",
      "    return 5*log10(dl(z,omega_m,w)) + M"
     ],
     "language": "python",
     "metadata": {},
     "outputs": [],
     "prompt_number": 905
    },
    {
     "cell_type": "heading",
     "level": 3,
     "metadata": {},
     "source": [
      "Finding Script M"
     ]
    },
    {
     "cell_type": "code",
     "collapsed": true,
     "input": [
      "#Create Arrays for low z values where all models converge\n",
      "\n",
      "thres = .07  #low z threshold\n",
      "\n",
      "#splice the data down\n",
      "total = zip(z,m,e)\n",
      "new = filter(lambda total: total[0]<thres,total)\n",
      "znew, mnew, enew = zip(*new)\n",
      "\n",
      "#Create array for M\n",
      "Mi = 43\n",
      "Mf = 43.4\n",
      "dM = .001\n",
      "Mmax = np.arange(Mi,Mf,dM)\n",
      "\n",
      "chi2 = np.zeros(len(Mmax))\n",
      "\n",
      "\n",
      "#Calculate Chi^2\n",
      "j = 0\n",
      "for a in Mmax: # runs through differen M values\n",
      "    for i in range(len(znew)):        # runs through different supernova\n",
      "        chi2[j] += (mnew[i]-mth(znew[i],1,a,-1))**2/enew[i]**2\n",
      "    j +=1\n",
      "\n",
      "L = np.exp(-chi2/2) #calculate likelihood\n",
      "normL1 = L/np.max(L) #normalize it\n",
      "\n",
      "#find max likelihood for given M (find the right index)\n",
      "\n",
      "i = np.unravel_index(normL1.argmax(),shape(normL1)) \n",
      "M = Mi + i[0]*dM\n",
      "\n",
      "#calculate standard deviation\n",
      "for i in range(len(Mmax)):\n",
      "    if normL1[i] > .35:\n",
      "        std1 = abs(Mi+i*dM-M)\n",
      "        break\n",
      "\n",
      "print \"Best fit M = \",M,\"+/- \",std1\n",
      "\n",
      "\n",
      "#Save data to csv for plotting later\n",
      "LvW = zip(Mmax,normL1)\n",
      "numpy.savetxt(\"LvM.csv\", LvW, delimiter=\",\")"
     ],
     "language": "python",
     "metadata": {},
     "outputs": [
      {
       "output_type": "stream",
       "stream": "stdout",
       "text": [
        "Best fit M =  43.203 +/-  0.02\n"
       ]
      }
     ],
     "prompt_number": 906
    },
    {
     "cell_type": "heading",
     "level": 3,
     "metadata": {},
     "source": [
      "\n",
      "Fixed w = -1, varying Omega_m\n",
      "\n"
     ]
    },
    {
     "cell_type": "code",
     "collapsed": true,
     "input": [
      "omega_m_i = .2\n",
      "omega_m_f = .5\n",
      "domega = .001\n",
      "omega_m_max = np.arange(omega_m_i,omega_m_f+domega,domega)\n",
      "    \n",
      "chi2 = 0*omega_m_max\n",
      "\n",
      "j = 0\n",
      "for k in omega_m_max:  # runs through p_j, different cosmo\n",
      "    for i in range(len(z)):        # runs through different supernova\n",
      "        chi2[j] += ((m[i]-mth(z[i],k,M,-1))/e[i])**2\n",
      "    j += 1 \n",
      "\n",
      "L = np.exp(-chi2/2)\n",
      "normL2 = L/np.max(L)\n",
      "\n",
      "#Find max likelihood for given Omega_M\n",
      "\n",
      "i = np.unravel_index(normL2.argmax(),shape(normL2))\n",
      "OM = omega_m_i + i[0]*domega\n",
      "\n",
      "#calculate standard deviation\n",
      "for i in range(len(omega_m_max)):\n",
      "    if normL2[i] > .35:\n",
      "        std2 = abs(omega_m_i+i*domega-OM)\n",
      "        break\n",
      "\n",
      "print \"Best fit Omega_M = \",OM, \"+/- \",std2\n",
      "\n",
      "LvW = zip(omega_m_max,normL2)\n",
      "numpy.savetxt(\"LvOM.csv\", LvW, delimiter=\",\")\n"
     ],
     "language": "python",
     "metadata": {},
     "outputs": [
      {
       "output_type": "stream",
       "stream": "stdout",
       "text": [
        "Best fit Omega_M =  0.335 +/-  0.021\n"
       ]
      }
     ],
     "prompt_number": 907
    },
    {
     "cell_type": "heading",
     "level": 3,
     "metadata": {},
     "source": [
      "\n",
      "Fixed Omega_m = .33, varying w\n",
      "\n"
     ]
    },
    {
     "cell_type": "code",
     "collapsed": true,
     "input": [
      "wi = -3\n",
      "wf = 3\n",
      "dw = .01\n",
      "wmax = np.arange(wi,wf+dw,dw)\n",
      "    \n",
      "chi2 = 0*wmax\n",
      "\n",
      "j = 0\n",
      "for w in wmax:  # runs through p_j, different cosmo\n",
      "    for i in range(len(z)):        # runs through different supernova\n",
      "        chi2[j] += ((m[i]-mth(z[i],OM,M,w))/e[i])**2\n",
      "    j += 1 \n",
      "\n",
      "L = np.exp(-chi2/2)\n",
      "normL3 = L/np.max(L)\n",
      "\n",
      "#Find most likely w value\n",
      "i = np.unravel_index(normL3.argmax(),shape(normL3))\n",
      "W = wi + i[0]*dw\n",
      "\n",
      "#calculate standard deviation\n",
      "for i in range(len(wmax)):\n",
      "    if normL3[i] > .35:\n",
      "        std3 = abs(wi+i*dw-W)\n",
      "        break\n",
      "\n",
      "print \"Expected value of w = \",W, \"+/- \", std3\n",
      "\n",
      "LvW = zip(wmax,normL3)\n",
      "numpy.savetxt(\"LvW.csv\", LvW, delimiter=\",\")\n"
     ],
     "language": "python",
     "metadata": {},
     "outputs": [
      {
       "output_type": "stream",
       "stream": "stdout",
       "text": [
        "Expected value of w =  -0.98 +/-  0.05\n"
       ]
      }
     ],
     "prompt_number": 908
    },
    {
     "cell_type": "heading",
     "level": 4,
     "metadata": {},
     "source": [
      "# Here I realized that the value of script M that I had fit before is close to the best fit value, but not quite, I had fit Script M while simultaneously fitting the other parameters (omega_m and w). The gridding for M is quite fine while the gridding for the other two parameters is large. "
     ]
    },
    {
     "cell_type": "code",
     "collapsed": false,
     "input": [
      "#Finding script M again, with all three parameters\n",
      "\n",
      "\n",
      "# Create arrays\n",
      "dw = .01\n",
      "wi = -1.4\n",
      "wf = -.6 + dw\n",
      "wmax = np.arange(wi,wf,dw)\n",
      "\n",
      "domega = .005\n",
      "omega_m_i = .25\n",
      "omega_m_f = .4 + domega\n",
      "omega_m_max = np.arange(omega_m_i,omega_m_f,domega)\n",
      "\n",
      "Mi = 43.1\n",
      "Mf = 43.2\n",
      "dM = .005\n",
      "Mmax = np.arange(Mi,Mf,dM)\n",
      "\n",
      "chi2 = np.zeros([len(omega_m_max),len(wmax),len(Mmax)])\n",
      "\n",
      "\n",
      "#run the chi2 loop\n",
      "n = 0\n",
      "for a in Mmax:\n",
      "    print \"M = \",a\n",
      "    i = 0\n",
      "    for omega in omega_m_max: \n",
      "        print \"Omega_m = \",omega\n",
      "        j = 0\n",
      "        for w in wmax:\n",
      "            #print \"w = \",w\n",
      "            for k in range(len(z)):        # runs through different supernova\n",
      "                chi2[i,j,n] += ((m[k]-mth(z[k],omega,a,w))/e[k])**2\n",
      "            j += 1\n",
      "        i += 1\n",
      "    n += 1\n",
      "\n",
      "L = np.exp(-chi2/2)\n",
      "normL4 = L/np.max(L)\n",
      "\n",
      "i,j,n = np.unravel_index(normL4.argmax(),normL4.shape)\n",
      "W = wi + j*dw\n",
      "OM = omega_m_i + i*domega\n",
      "M = Mi + n*dM\n",
      "\n",
      "print \"Best fit omega_m = \",OM\n",
      "print \"Best fit w = \",W\n",
      "print \"Best fit M = \",M"
     ],
     "language": "python",
     "metadata": {},
     "outputs": []
    },
    {
     "cell_type": "heading",
     "level": 4,
     "metadata": {},
     "source": [
      "Thus, my new, better fitting Script M value is 43.15 rather than 43.2. This makes quite a difference. I accept this value as best fit and then vary Omega_m and w in one plane, rather than iterating over every M value. This was because gridding over all three parameters would simply take too long. "
     ]
    },
    {
     "cell_type": "heading",
     "level": 3,
     "metadata": {},
     "source": [
      "Varying w and omega_m with fixed M"
     ]
    },
    {
     "cell_type": "code",
     "collapsed": true,
     "input": [
      "### Takes FOREVER to run (6 hours) ###\n",
      "\n",
      "M = 43.155 # found by fitting all three parameters\n",
      "\n",
      "dw = .001\n",
      "wi = -1.4\n",
      "wf = -.6 + dw\n",
      "wmax = np.arange(wi,wf,dw)\n",
      "\n",
      "domega = .001\n",
      "omega_m_i = 0\n",
      "omega_m_f = .5 + domega\n",
      "\n",
      "omega_m_max = np.arange(omega_m_i,omega_m_f,domega)\n",
      "\n",
      "chi2 = np.zeros([len(omega_m_max),len(wmax)])\n",
      "\n",
      "i = 0\n",
      "for omega in omega_m_max: \n",
      "    print omega\n",
      "    j = 0\n",
      "    for w in wmax:\n",
      "        for k in range(len(z)):        # runs through different supernova\n",
      "            chi2[i,j] += ((m[k]-mth(z[k],omega,M,w))/e[k])**2\n",
      "        j += 1\n",
      "    i += 1\n",
      "\n",
      "L = np.exp(-chi2/2)\n",
      "normL4 = L/np.max(L)\n",
      "\n",
      "i,j = np.unravel_index(normL4.argmax(),normL4.shape)\n",
      "W = wi + j*dw\n",
      "OM = omega_m_i + i*domega\n",
      "\n",
      "print \"Best fit omega_m = \",OM\n",
      "print \"Expected value of w = \",W\n",
      "\n",
      "\n",
      "test1 = np.zeros(shape(normL4))\n",
      "for i in range(shape(normL4)[0]):\n",
      "    for j in range(shape(normL4)[1]):\n",
      "        if normL4[i,j] > .32:\n",
      "            test1[i,j] = 1\n",
      "        elif normL4[i,j] > .05 and normL4[i,j] <.32:\n",
      "            test1[i,j] = 1/2\n",
      "        else:\n",
      "            test1[i,j] = 0\n",
      "\n",
      "numpy.savetxt(\"OMmax1.csv\",omega_m_max,delimiter = \",\")\n",
      "numpy.savetxt(\"Wmax1.csv\",wmax,delimiter = \",\")\n",
      "numpy.savetxt(\"WvOM.csv\", normL4, delimiter=\",\")\n",
      "numpy.savetxt(\"WvOMtest.csv\", test1, delimiter=\",\")"
     ],
     "language": "python",
     "metadata": {},
     "outputs": []
    },
    {
     "cell_type": "heading",
     "level": 4,
     "metadata": {},
     "source": [
      "Here's a plot with three different magnitude curves. "
     ]
    },
    {
     "cell_type": "code",
     "collapsed": true,
     "input": [
      "zmax = np.arange(.01,1.5,.01)\n",
      "val = np.zeros([3,len(zmax)])\n",
      "\n",
      "w = -1.04\n",
      "for i in range(len(zmax)):\n",
      "    val[0,i]=mth(zmax[i],OM,M,w)\n",
      "    val[1,i]=mth(zmax[i],0,M,w)\n",
      "    val[2,i]=mth(zmax[i],1,M,w)\n",
      "\n",
      "numpy.savetxt(\"magvred.csv\",val,delimiter = \",\")\n",
      "numpy.savetxt(\"zmax.csv\",zmax,delimiter = \",\")"
     ],
     "language": "python",
     "metadata": {},
     "outputs": []
    },
    {
     "cell_type": "heading",
     "level": 1,
     "metadata": {},
     "source": [
      "OMEGA M OMEGA DE"
     ]
    },
    {
     "cell_type": "code",
     "collapsed": true,
     "input": [
      "def mth2(z,omega_m,omega_l,M):  #fixed omega_m\n",
      "    def dl(z,omega_m,omega_l):\n",
      "        omega_k = omega_m + omega_l - 1\n",
      "        f = lambda x: 1/np.sqrt(omega_m*(1+x)**3 + omega_l - omega_k*(1+x)**2)\n",
      "        d = integrate.romberg(f, 0 , z, rtol = 0.001, show = False)*(1+z)\n",
      "        return d \n",
      "    return 5*log10(dl(z,omega_m,omega_l)) + M "
     ],
     "language": "python",
     "metadata": {},
     "outputs": [],
     "prompt_number": 909
    },
    {
     "cell_type": "code",
     "collapsed": true,
     "input": [
      "#fit script M again\n",
      "\n",
      "#Create Arrays for low z values\n",
      "\n",
      "thres = .07\n",
      "total = zip(z,m,e)\n",
      "new = filter(lambda total: total[0]<thres,total)\n",
      "znew, mnew, enew = zip(*new)\n",
      "\n",
      "#Create array for M\n",
      "Mi = 43\n",
      "Mf = 43.5\n",
      "dM = .0001\n",
      "Mmax = np.arange(Mi,Mf,dM)\n",
      "\n",
      "chi2 = np.zeros(len(Mmax))\n",
      "\n",
      "j = 0\n",
      "for a in Mmax: # runs through differen M values\n",
      "    for i in range(len(znew)):        # runs through different supernova\n",
      "        chi2[j] += (mnew[i]-mth2(znew[i],.3,.7,a))**2/enew[i]**2\n",
      "    #print  chi2[j]\n",
      "    j +=1\n",
      "\n",
      "L = np.exp(-chi2/2)\n",
      "normL5 = L/np.max(L)\n",
      "\n",
      "#find max likelihood for given M\n",
      "\n",
      "i = np.unravel_index(normL5.argmax(),shape(normL5))\n",
      "M = Mi + i[0]*dM\n",
      "\n",
      "#calculate standard deviation\n",
      "for i in range(len(Mmax)):\n",
      "    if normL3[i] > .35:\n",
      "        std5 = abs(Mi+i*dM-M)\n",
      "        break\n",
      "##\n",
      "print \"Best fit M = \",M,\"+/- \",std5"
     ],
     "language": "python",
     "metadata": {},
     "outputs": []
    },
    {
     "cell_type": "code",
     "collapsed": true,
     "input": [
      "M = 43.165 # found from above fitting\n",
      "domega = .002\n",
      "\n",
      "omega_l_i = 0\n",
      "omega_l_f = 1\n",
      "omega_l_max = np.arange(omega_l_i,omega_l_f,domega)\n",
      "\n",
      "omega_m_i = 0\n",
      "omega_m_f = 1\n",
      "omega_m_max = np.arange(omega_m_i,omega_m_f,domega)\n",
      "\n",
      "chi2 = np.zeros([len(omega_m_max),len(omega_l_max)])\n",
      "\n",
      "i = 0\n",
      "for omega_m in omega_m_max: \n",
      "    print omega_m\n",
      "    j = 0\n",
      "    for omega_l in omega_l_max:\n",
      "        for k in range(len(z)):        # runs through different supernova\n",
      "            chi2[i,j] += ((m[k]-mth2(z[k],omega_m,omega_l,M))/e[k])**2\n",
      "        j += 1\n",
      "    i += 1\n",
      "\n",
      "L = np.exp(-chi2/2)\n",
      "normL6 = L/np.max(L)\n",
      "\n",
      "i,j = np.unravel_index(normL6.argmax(),normL6.shape)\n",
      "OL = omega_l_i + j*domega\n",
      "OM = omega_m_i + i*domega\n",
      "\n",
      "print \"Best fit omega_m = \",OM\n",
      "print \"Best fit omega_l = \",OL\n",
      "\n",
      "test2 = np.zeros(shape(normL6))\n",
      "for i in range(shape(normL6)[0]):\n",
      "    for j in range(shape(normL6)[1]):\n",
      "        if normL6[i,j] > .32:\n",
      "            test2[i,j] = 1\n",
      "        elif normL6[i,j] > .05 and normL6[i,j] <.32:\n",
      "            test2[i,j] = 1/2\n",
      "        else:\n",
      "            test2[i,j] = 0\n",
      "\n",
      "numpy.savetxt(\"OMmax2.csv\",omega_m_max,delimiter = \",\")\n",
      "numpy.savetxt(\"OLmax.csv\",omega_l_max,delimiter = \",\")\n",
      "numpy.savetxt(\"OLvOM.csv\", normL5, delimiter=\",\")\n",
      "numpy.savetxt(\"OLvOMtest.csv\", test2, delimiter=\",\")"
     ],
     "language": "python",
     "metadata": {},
     "outputs": []
    },
    {
     "cell_type": "code",
     "collapsed": false,
     "input": [
      "###heres another plot comparing the theoretical magnitude in different cosmologies. \n",
      "\n",
      "zmax = np.arange(.01,1.5,.01)\n",
      "val = np.zeros([3,len(zmax)])\n",
      "\n",
      "OM = 0.264\n",
      "OL = .708\n",
      "w = -1\n",
      "M = 43.164\n",
      "\n",
      "for i in range(len(zmax)):\n",
      "    val[0,i]=mth2(zmax[i],OM,OL,M)\n",
      "    val[1,i]=mth2(zmax[i],1,0,M)\n",
      "    val[2,i]=mth2(zmax[i],0,1,M)\n",
      "    \n",
      "numpy.savetxt(\"magvred2.csv\",val,delimiter = \",\")"
     ],
     "language": "python",
     "metadata": {},
     "outputs": []
    },
    {
     "cell_type": "code",
     "collapsed": false,
     "input": [],
     "language": "python",
     "metadata": {},
     "outputs": []
    }
   ],
   "metadata": {}
  }
 ]
}